{
 "cells": [
  {
   "cell_type": "code",
   "execution_count": 1,
   "id": "colored-chile",
   "metadata": {},
   "outputs": [
    {
     "name": "stdout",
     "output_type": "stream",
     "text": [
      "['{\"title\": \"Conquest of Stockholm\", \"id\": \"0f276a11d36371a901269fb1d0be6355\", \"content\": [{\"sentence\": \"The Conquest of Stockholm () was a battle in the Swedish War of Liberation that took place in Stockholm, Sweden on 17 June 1523.\", \"tokens\": [\"The\", \"Conquest\", \"of\", \"Stockholm\", \"(\", \")\", \"was\", \"a\", \"battle\", \"in\", \"the\", \"Swedish\", \"War\", \"of\", \"Liberation\", \"that\", \"took\", \"place\", \"in\", \"Stockholm\", \",\", \"Sweden\", \"on\", \"17\", \"June\", \"1523\", \".\"]}, {\"sentence\": \"The Swedish forces had for a long time laid siege to Stockholm, which was the last Danish stronghold in Sweden.\", \"tokens\": [\"The\", \"Swedish\", \"forces\", \"had\", \"for\", \"a\", \"long\", \"time\", \"laid\", \"siege\", \"to\", \"Stockholm\", \",\", \"which\", \"was\", \"the\", \"last\", \"Danish\", \"stronghold\", \"in\", \"Sweden\", \".\"]}, {\"sentence\": \"The city waited for reinforcement from Denmark, but none came.\", \"tokens\": [\"The\", \"city\", \"waited\", \"for\", \"reinforcement\", \"from\", \"Denmark\", \",\", \"but\", \"none\", \"came\", \".\"]}, {\"sentence\": \"It was clear that negotiations must begin.\", \"tokens\": [\"It\", \"was\", \"clear\", \"that\", \"negotiations\", \"must\", \"begin\", \".\"]}, {\"sentence\": \"A first attempt at negotiation began, on the basis that the military forces in Stockholm would surrender to Lübeck, and that Lübeck and Danzig would compensate them for their remaining pay.\", \"tokens\": [\"A\", \"first\", \"attempt\", \"at\", \"negotiation\", \"began\", \",\", \"on\", \"the\", \"basis\", \"that\", \"the\", \"military\", \"forces\", \"in\", \"Stockholm\", \"would\", \"surrender\", \"to\", \"Lübeck\", \",\", \"and\", \"that\", \"Lübeck\", \"and\", \"Danzig\", \"would\", \"compensate\", \"them\", \"for\", \"their\", \"remaining\", \"pay\", \".\"]}, {\"sentence\": \"Gustav Vasa refused to agree with this proposal, and the siege continued.\", \"tokens\": [\"Gustav\", \"Vasa\", \"refused\", \"to\", \"agree\", \"with\", \"this\", \"proposal\", \",\", \"and\", \"the\", \"siege\", \"continued\", \".\"]}, {\"sentence\": \"In June 1523 the negotiations were resumed.\", \"tokens\": [\"In\", \"June\", \"1523\", \"the\", \"negotiations\", \"were\", \"resumed\", \".\"]}, {\"sentence\": \"Stockholm\\'s defenders were tired of the fighting, and their only demand was safe passage and that they were allowed to retain their equipment.\", \"tokens\": [\"Stockholm\", \"\\'s\", \"defenders\", \"were\", \"tired\", \"of\", \"the\", \"fighting\", \",\", \"and\", \"their\", \"only\", \"demand\", \"was\", \"safe\", \"passage\", \"and\", \"that\", \"they\", \"were\", \"allowed\", \"to\", \"retain\", \"their\", \"equipment\", \".\"]}, {\"sentence\": \"This was accepted by Gustav Vasa and on 17 June the capitulation of the city and castle was officially signed.\", \"tokens\": [\"This\", \"was\", \"accepted\", \"by\", \"Gustav\", \"Vasa\", \"and\", \"on\", \"17\", \"June\", \"the\", \"capitulation\", \"of\", \"the\", \"city\", \"and\", \"castle\", \"was\", \"officially\", \"signed\", \".\"]}, {\"sentence\": \"Gustav Vasa, who had been crowned King of Sweden on 6 June, could march into the city on Midsummer\\'s Eve.\", \"tokens\": [\"Gustav\", \"Vasa\", \",\", \"who\", \"had\", \"been\", \"crowned\", \"King\", \"of\", \"Sweden\", \"on\", \"6\", \"June\", \",\", \"could\", \"march\", \"into\", \"the\", \"city\", \"on\", \"Midsummer\", \"\\'s\", \"Eve\", \".\"]}], \"candidates\": [{\"trigger_word\": \"Conquest\", \"sent_id\": 0, \"offset\": [1, 2], \"id\": \"f3d95fd23f790fb12875f8fe02bf5fb0\"}, {\"trigger_word\": \"Stockholm\", \"sent_id\": 0, \"offset\": [3, 4], \"id\": \"d08f7d8bd7a0d1949400198042b53dd4\"}, {\"trigger_word\": \"battle\", \"sent_id\": 0, \"offset\": [8, 9], \"id\": \"ad1e13bf97cd52fcf43086da34074953\"}, {\"trigger_word\": \"Swedish\", \"sent_id\": 0, \"offset\": [11, 12], \"id\": \"5a407458914253a591c0af7bf4d156cc\"}, {\"trigger_word\": \"War\", \"sent_id\": 0, \"offset\": [12, 13], \"id\": \"96fc304c7548b045899e5cc2a2b6ac55\"}, {\"trigger_word\": \"Liberation\", \"sent_id\": 0, \"offset\": [14, 15], \"id\": \"fa663ca4960c73d653ac973413e235be\"}, {\"trigger_word\": \"took place\", \"sent_id\": 0, \"offset\": [16, 18], \"id\": \"de814bcce746a91fb8566a4153643b0f\"}, {\"trigger_word\": \"Stockholm\", \"sent_id\": 0, \"offset\": [19, 20], \"id\": \"0de5a1a20e9ac7a152939fca6eab348a\"}, {\"trigger_word\": \"Sweden\", \"sent_id\": 0, \"offset\": [21, 22], \"id\": \"7250e291d13c8a7a0d50124f2332350b\"}, {\"trigger_word\": \"June\", \"sent_id\": 0, \"offset\": [24, 25], \"id\": \"12a0a661e4dc124657e113c322942aad\"}, {\"trigger_word\": \"Swedish\", \"sent_id\": 1, \"offset\": [1, 2], \"id\": \"0de3035e06cbda8348dc09239c4056cb\"}, {\"trigger_word\": \"forces\", \"sent_id\": 1, \"offset\": [2, 3], \"id\": \"f9fd05fcec5ab054046b29742f22c470\"}, {\"trigger_word\": \"long\", \"sent_id\": 1, \"offset\": [6, 7], \"id\": \"0227f1b55189447142d60b63da7ecf2b\"}, {\"trigger_word\": \"time\", \"sent_id\": 1, \"offset\": [7, 8], \"id\": \"a14ac7309df94e4897d55ca855a7b077\"}, {\"trigger_word\": \"laid\", \"sent_id\": 1, \"offset\": [8, 9], \"id\": \"238d02a34da8248d09f8aaa9d77c1e47\"}, {\"trigger_word\": \"siege\", \"sent_id\": 1, \"offset\": [9, 10], \"id\": \"31326a2168f6a4dce53f1a68debc5ab4\"}, {\"trigger_word\": \"Stockholm\", \"sent_id\": 1, \"offset\": [11, 12], \"id\": \"8cd2c39a2ab2f6d4c0b86ad2ce3f09d6\"}, {\"trigger_word\": \"last\", \"sent_id\": 1, \"offset\": [16, 17], \"id\": \"d96ff3d8020f09220a27039f4ced8bb2\"}, {\"trigger_word\": \"Danish\", \"sent_id\": 1, \"offset\": [17, 18], \"id\": \"1683bd19930826575e16206c0264a52b\"}, {\"trigger_word\": \"stronghold\", \"sent_id\": 1, \"offset\": [18, 19], \"id\": \"3f8fee22520bce7a44b0e03c82f250aa\"}, {\"trigger_word\": \"Sweden\", \"sent_id\": 1, \"offset\": [20, 21], \"id\": \"9e3d37336eb2ef618577a320f965d2d4\"}, {\"trigger_word\": \"city\", \"sent_id\": 2, \"offset\": [1, 2], \"id\": \"efd7aa73b9fa36b92be17cc6fbd37a64\"}, {\"trigger_word\": \"waited\", \"sent_id\": 2, \"offset\": [2, 3], \"id\": \"800d0c9e611b6b014574d5ee8a2cb3b1\"}, {\"trigger_word\": \"reinforcement\", \"sent_id\": 2, \"offset\": [4, 5], \"id\": \"db74a71c8660439f7ed561d3e11a837a\"}, {\"trigger_word\": \"Denmark\", \"sent_id\": 2, \"offset\": [6, 7], \"id\": \"7ad8cb0b2e6712ba55e09a3a4104327b\"}, {\"trigger_word\": \"none\", \"sent_id\": 2, \"offset\": [9, 10], \"id\": \"8236f5cf166658a7f0cc887e7639c00b\"}, {\"trigger_word\": \"came\", \"sent_id\": 2, \"offset\": [10, 11], \"id\": \"596ed3f3bc6c0790512bbd758b28ab34\"}, {\"trigger_word\": \"clear\", \"sent_id\": 3, \"offset\": [2, 3], \"id\": \"db40233333b58cfab0043711cfd93ddd\"}, {\"trigger_word\": \"negotiations\", \"sent_id\": 3, \"offset\": [4, 5], \"id\": \"1a0e35b566e441fee0c7fba8d16b659c\"}, {\"trigger_word\": \"begin\", \"sent_id\": 3, \"offset\": [6, 7], \"id\": \"e56000aab35814666944454cbb50aa87\"}, {\"trigger_word\": \"first\", \"sent_id\": 4, \"offset\": [1, 2], \"id\": \"2bb6ccd3e9c19b85d64a8bed3b26c4c4\"}, {\"trigger_word\": \"attempt\", \"sent_id\": 4, \"offset\": [2, 3], \"id\": \"d6589b978b8c46aa0e983563e45d5415\"}, {\"trigger_word\": \"negotiation\", \"sent_id\": 4, \"offset\": [4, 5], \"id\": \"7dcfe21eac8e089609d8416a4f608480\"}, {\"trigger_word\": \"began\", \"sent_id\": 4, \"offset\": [5, 6], \"id\": \"2c7fc960a9532c1ba2bb1626c5040cea\"}, {\"trigger_word\": \"basis\", \"sent_id\": 4, \"offset\": [9, 10], \"id\": \"46e6753e5e3eb264d41ece02c5ab1333\"}, {\"trigger_word\": \"military\", \"sent_id\": 4, \"offset\": [12, 13], \"id\": \"53dff838d942c85591c8bee63e85ef64\"}, {\"trigger_word\": \"forces\", \"sent_id\": 4, \"offset\": [13, 14], \"id\": \"9b305725660ed3648d9a0cbd69739d0b\"}, {\"trigger_word\": \"Stockholm\", \"sent_id\": 4, \"offset\": [15, 16], \"id\": \"6bbafb5538ab558c5ad6396efd6905fe\"}, {\"trigger_word\": \"surrender\", \"sent_id\": 4, \"offset\": [17, 18], \"id\": \"b804924b774917657c11adcb76cdc09f\"}, {\"trigger_word\": \"Lübeck\", \"sent_id\": 4, \"offset\": [19, 20], \"id\": \"e27845d27f204cf47e777ad13a6df920\"}, {\"trigger_word\": \"Lübeck\", \"sent_id\": 4, \"offset\": [23, 24], \"id\": \"87ffd0a66f31ceae78ae532d48273e32\"}, {\"trigger_word\": \"Danzig\", \"sent_id\": 4, \"offset\": [25, 26], \"id\": \"d7d106696fc3b8c8dc8de5b75ac54605\"}, {\"trigger_word\": \"compensate\", \"sent_id\": 4, \"offset\": [27, 28], \"id\": \"ab3b4082a64cbd13cc0800406b9ffeac\"}, {\"trigger_word\": \"pay\", \"sent_id\": 4, \"offset\": [32, 33], \"id\": \"551f83bfedfd5829f9961d85df6bd1ab\"}, {\"trigger_word\": \"Gustav\", \"sent_id\": 5, \"offset\": [0, 1], \"id\": \"b56e9660c9c82142f478ba39ac7416d7\"}, {\"trigger_word\": \"Vasa\", \"sent_id\": 5, \"offset\": [1, 2], \"id\": \"793365c95e62e883cfd427e6f5dfc344\"}, {\"trigger_word\": \"refused\", \"sent_id\": 5, \"offset\": [2, 3], \"id\": \"5aa805612600f17abdd8ad1b2c4cefd0\"}, {\"trigger_word\": \"agree\", \"sent_id\": 5, \"offset\": [4, 5], \"id\": \"087387cd6449d0d9a701ed72bb1bd810\"}, {\"trigger_word\": \"proposal\", \"sent_id\": 5, \"offset\": [7, 8], \"id\": \"bdaa0ac96fe6209147aa81003ab3c81a\"}, {\"trigger_word\": \"siege\", \"sent_id\": 5, \"offset\": [11, 12], \"id\": \"b124766b002520dc1590c6e72a333429\"}, {\"trigger_word\": \"June\", \"sent_id\": 6, \"offset\": [1, 2], \"id\": \"e11917ddafff783e9cd8d66dbad4a04d\"}, {\"trigger_word\": \"negotiations\", \"sent_id\": 6, \"offset\": [4, 5], \"id\": \"37146b16f041495cf55baaa4127c71d7\"}, {\"trigger_word\": \"resumed\", \"sent_id\": 6, \"offset\": [6, 7], \"id\": \"42d090e34aa91827974b8cf15b756b26\"}, {\"trigger_word\": \"Stockholm\", \"sent_id\": 7, \"offset\": [0, 1], \"id\": \"dbd4e6c4ba594596bf18b65d04fca655\"}, {\"trigger_word\": \"defenders\", \"sent_id\": 7, \"offset\": [2, 3], \"id\": \"89c6d488aa4adebf6c36e14c2bc36f4a\"}, {\"trigger_word\": \"fighting\", \"sent_id\": 7, \"offset\": [7, 8], \"id\": \"fca58269f526708945e7790abe3ade6d\"}, {\"trigger_word\": \"demand\", \"sent_id\": 7, \"offset\": [12, 13], \"id\": \"e15069d5a84c592beacab7d360df6322\"}, {\"trigger_word\": \"safe\", \"sent_id\": 7, \"offset\": [14, 15], \"id\": \"998ded7abfa857c2764849ce82d5b456\"}, {\"trigger_word\": \"passage\", \"sent_id\": 7, \"offset\": [15, 16], \"id\": \"9906cb58f7bddd347aaf46e8d871c9de\"}, {\"trigger_word\": \"allowed\", \"sent_id\": 7, \"offset\": [20, 21], \"id\": \"fc535fd1570ff1f3fe3bef4036f324a9\"}, {\"trigger_word\": \"retain\", \"sent_id\": 7, \"offset\": [22, 23], \"id\": \"d05161780d9fb10a7789d01be5f85b8f\"}, {\"trigger_word\": \"equipment\", \"sent_id\": 7, \"offset\": [24, 25], \"id\": \"16db8a9df17a6cc3e0900fb5286bdf53\"}, {\"trigger_word\": \"accepted\", \"sent_id\": 8, \"offset\": [2, 3], \"id\": \"d2dc56d59d41b4e961dc46fe1a018edc\"}, {\"trigger_word\": \"Gustav\", \"sent_id\": 8, \"offset\": [4, 5], \"id\": \"aa403f6c825ef738ba0708d81228e320\"}, {\"trigger_word\": \"Vasa\", \"sent_id\": 8, \"offset\": [5, 6], \"id\": \"79685d81d4c1ae3738057ecd7cff9d3f\"}, {\"trigger_word\": \"June\", \"sent_id\": 8, \"offset\": [9, 10], \"id\": \"b93b33a72e652aa035e61437f890e1bc\"}, {\"trigger_word\": \"capitulation\", \"sent_id\": 8, \"offset\": [11, 12], \"id\": \"07e538514deaab0d51390df3d3316e82\"}, {\"trigger_word\": \"city\", \"sent_id\": 8, \"offset\": [14, 15], \"id\": \"60ab04b463e810423f186e5e5fb93962\"}, {\"trigger_word\": \"castle\", \"sent_id\": 8, \"offset\": [16, 17], \"id\": \"718c5bec2f3f9f5243ed2d98c955d399\"}, {\"trigger_word\": \"officially\", \"sent_id\": 8, \"offset\": [18, 19], \"id\": \"d014333c4726892067682d424b024e69\"}, {\"trigger_word\": \"signed\", \"sent_id\": 8, \"offset\": [19, 20], \"id\": \"5a3cec7a264adac0d0b2c1c629eaad29\"}, {\"trigger_word\": \"Gustav\", \"sent_id\": 9, \"offset\": [0, 1], \"id\": \"868978bb6e6c173b6f0256f52088ccbd\"}, {\"trigger_word\": \"Vasa\", \"sent_id\": 9, \"offset\": [1, 2], \"id\": \"adb80573db0d8446d96faea6df719412\"}, {\"trigger_word\": \"crowned\", \"sent_id\": 9, \"offset\": [6, 7], \"id\": \"bdc71bce05a1bdfbc024c968e5388531\"}, {\"trigger_word\": \"King\", \"sent_id\": 9, \"offset\": [7, 8], \"id\": \"5d10f78e8f6908c71b8e5dba1fdbb0ef\"}, {\"trigger_word\": \"Sweden\", \"sent_id\": 9, \"offset\": [9, 10], \"id\": \"555e3a9f224b17bb53b1cf771eed7c3e\"}, {\"trigger_word\": \"June\", \"sent_id\": 9, \"offset\": [12, 13], \"id\": \"9092291774b5f46fa0c8d03cd5b25553\"}, {\"trigger_word\": \"march\", \"sent_id\": 9, \"offset\": [15, 16], \"id\": \"37b2aea156dfdb50356c3954fc5288fa\"}, {\"trigger_word\": \"city\", \"sent_id\": 9, \"offset\": [18, 19], \"id\": \"156a7308f3ee4474c54730fc4fd63a1b\"}, {\"trigger_word\": \"Midsummer\", \"sent_id\": 9, \"offset\": [20, 21], \"id\": \"bbb5de0ec682c5ce856d8eb2ff50b292\"}, {\"trigger_word\": \"Eve\", \"sent_id\": 9, \"offset\": [22, 23], \"id\": \"4c36921ca8fce9715f1be12141ce3296\"}]}\\n']\n"
     ]
    }
   ],
   "source": [
    "import json\n",
    "\n",
    "with open('test.jsonl', 'r') as f:\n",
    "    train_data = f.readlines()#json.load(f)\n",
    "\n",
    "print(train_data[:1])"
   ]
  },
  {
   "cell_type": "code",
   "execution_count": 2,
   "id": "collaborative-stevens",
   "metadata": {},
   "outputs": [
    {
     "data": {
      "text/plain": [
       "857"
      ]
     },
     "execution_count": 2,
     "metadata": {},
     "output_type": "execute_result"
    }
   ],
   "source": [
    "len(train_data)"
   ]
  },
  {
   "cell_type": "code",
   "execution_count": 3,
   "id": "maritime-development",
   "metadata": {},
   "outputs": [],
   "source": [
    "#train_events = []\n",
    "train_events = [json.loads(x) for x in train_data]"
   ]
  },
  {
   "cell_type": "code",
   "execution_count": 4,
   "id": "bound-replacement",
   "metadata": {},
   "outputs": [
    {
     "data": {
      "text/plain": [
       "857"
      ]
     },
     "execution_count": 4,
     "metadata": {},
     "output_type": "execute_result"
    }
   ],
   "source": [
    "len(train_events)"
   ]
  },
  {
   "cell_type": "code",
   "execution_count": 5,
   "id": "annoying-arbor",
   "metadata": {},
   "outputs": [
    {
     "data": {
      "text/plain": [
       "dict_keys(['title', 'id', 'content', 'candidates'])"
      ]
     },
     "execution_count": 5,
     "metadata": {},
     "output_type": "execute_result"
    }
   ],
   "source": [
    "train_events[0].keys()"
   ]
  },
  {
   "cell_type": "code",
   "execution_count": 6,
   "id": "solid-hearts",
   "metadata": {},
   "outputs": [
    {
     "data": {
      "text/plain": [
       "10"
      ]
     },
     "execution_count": 6,
     "metadata": {},
     "output_type": "execute_result"
    }
   ],
   "source": [
    "len(train_events[0]['content'])"
   ]
  },
  {
   "cell_type": "code",
   "execution_count": 7,
   "id": "bizarre-cocktail",
   "metadata": {},
   "outputs": [
    {
     "data": {
      "text/plain": [
       "dict_keys(['sentence', 'tokens'])"
      ]
     },
     "execution_count": 7,
     "metadata": {},
     "output_type": "execute_result"
    }
   ],
   "source": [
    "train_events[0]['content'][0].keys()"
   ]
  },
  {
   "cell_type": "markdown",
   "id": "quality-shooting",
   "metadata": {},
   "source": [
    "### Calculate the maximum number of items per article:\n",
    "- sentences\n",
    "- tokens\n",
    "- events"
   ]
  },
  {
   "cell_type": "code",
   "execution_count": 9,
   "id": "israeli-keeping",
   "metadata": {},
   "outputs": [
    {
     "name": "stdout",
     "output_type": "stream",
     "text": [
      "max_sent_cnt 44\n",
      "max_doc_len 1449\n",
      "max_num_evt 719\n"
     ]
    }
   ],
   "source": [
    "max_sent_cnt = 0\n",
    "max_doc_len = 0\n",
    "max_num_evt = 0\n",
    "for evt in train_events:\n",
    "    max_sent_cnt = len(evt['content']) if max_sent_cnt < len(evt['content']) else max_sent_cnt\n",
    "    max_num_evt = len(evt['candidates']) if max_num_evt < len(evt['candidates']) else max_num_evt\n",
    "    tmp_doc_len = 0\n",
    "    for sent in evt['content']:\n",
    "        tmp_doc_len += len(sent['tokens'])\n",
    "    max_doc_len = tmp_doc_len if max_doc_len < tmp_doc_len else max_doc_len\n",
    "\n",
    "print('max_sent_cnt', max_sent_cnt)\n",
    "print('max_doc_len', max_doc_len)\n",
    "print('max_num_evt', max_num_evt)"
   ]
  },
  {
   "cell_type": "code",
   "execution_count": null,
   "id": "stunning-infection",
   "metadata": {},
   "outputs": [],
   "source": []
  }
 ],
 "metadata": {
  "kernelspec": {
   "display_name": "Python 3",
   "language": "python",
   "name": "python3"
  },
  "language_info": {
   "codemirror_mode": {
    "name": "ipython",
    "version": 3
   },
   "file_extension": ".py",
   "mimetype": "text/x-python",
   "name": "python",
   "nbconvert_exporter": "python",
   "pygments_lexer": "ipython3",
   "version": "3.7.4"
  }
 },
 "nbformat": 4,
 "nbformat_minor": 5
}
